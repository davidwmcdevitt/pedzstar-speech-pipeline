{
 "cells": [
  {
   "cell_type": "code",
   "execution_count": 1,
   "metadata": {
    "id": "yqZn5s2Ad8ZX"
   },
   "outputs": [],
   "source": [
    "import os\n",
    "os.chdir('/Users/davidmcdevitt/Documents/GitHub/speech-pipeline')"
   ]
  },
  {
   "cell_type": "code",
   "execution_count": 2,
   "metadata": {
    "colab": {
     "base_uri": "https://localhost:8080/"
    },
    "id": "m7BGPx3uoCyv",
    "outputId": "9c05ae96-7817-4483-96dc-72acee4db61a"
   },
   "outputs": [
    {
     "name": "stdout",
     "output_type": "stream",
     "text": [
      "Already up to date.\r\n"
     ]
    }
   ],
   "source": [
    "!git pull"
   ]
  },
  {
   "cell_type": "code",
   "execution_count": 3,
   "metadata": {
    "colab": {
     "base_uri": "https://localhost:8080/"
    },
    "id": "dzxtZG09jQI4",
    "outputId": "fc45d305-47d3-4505-d92e-a398ab63a0fe"
   },
   "outputs": [
    {
     "name": "stdout",
     "output_type": "stream",
     "text": [
      "Requirement already satisfied: numpy in /Users/davidmcdevitt/opt/anaconda3/lib/python3.9/site-packages (from -r requirements.txt (line 1)) (1.22.4)\n",
      "Requirement already satisfied: pandas in /Users/davidmcdevitt/opt/anaconda3/lib/python3.9/site-packages (from -r requirements.txt (line 2)) (1.3.4)\n",
      "Requirement already satisfied: torch in /Users/davidmcdevitt/opt/anaconda3/lib/python3.9/site-packages (from -r requirements.txt (line 3)) (1.10.1)\n",
      "Requirement already satisfied: torchaudio in /Users/davidmcdevitt/opt/anaconda3/lib/python3.9/site-packages (from -r requirements.txt (line 4)) (0.10.1)\n",
      "Requirement already satisfied: matplotlib in /Users/davidmcdevitt/opt/anaconda3/lib/python3.9/site-packages (from -r requirements.txt (line 5)) (3.5.1)\n",
      "Requirement already satisfied: IPython in /Users/davidmcdevitt/opt/anaconda3/lib/python3.9/site-packages (from -r requirements.txt (line 7)) (8.14.0)\n",
      "Requirement already satisfied: pydub in /Users/davidmcdevitt/opt/anaconda3/lib/python3.9/site-packages (from -r requirements.txt (line 8)) (0.25.1)\n",
      "Requirement already satisfied: scikit-learn in /Users/davidmcdevitt/opt/anaconda3/lib/python3.9/site-packages (from -r requirements.txt (line 9)) (0.24.2)\n",
      "Requirement already satisfied: python-dateutil>=2.7.3 in /Users/davidmcdevitt/opt/anaconda3/lib/python3.9/site-packages (from pandas->-r requirements.txt (line 2)) (2.8.2)\n",
      "Requirement already satisfied: pytz>=2017.3 in /Users/davidmcdevitt/opt/anaconda3/lib/python3.9/site-packages (from pandas->-r requirements.txt (line 2)) (2021.3)\n",
      "Requirement already satisfied: typing-extensions in /Users/davidmcdevitt/opt/anaconda3/lib/python3.9/site-packages (from torch->-r requirements.txt (line 3)) (4.4.0)\n",
      "Requirement already satisfied: kiwisolver>=1.0.1 in /Users/davidmcdevitt/opt/anaconda3/lib/python3.9/site-packages (from matplotlib->-r requirements.txt (line 5)) (1.3.1)\n",
      "Requirement already satisfied: pyparsing>=2.2.1 in /Users/davidmcdevitt/opt/anaconda3/lib/python3.9/site-packages (from matplotlib->-r requirements.txt (line 5)) (3.0.4)\n",
      "Requirement already satisfied: fonttools>=4.22.0 in /Users/davidmcdevitt/opt/anaconda3/lib/python3.9/site-packages (from matplotlib->-r requirements.txt (line 5)) (4.25.0)\n",
      "Requirement already satisfied: pillow>=6.2.0 in /Users/davidmcdevitt/opt/anaconda3/lib/python3.9/site-packages (from matplotlib->-r requirements.txt (line 5)) (8.4.0)\n",
      "Requirement already satisfied: packaging>=20.0 in /Users/davidmcdevitt/opt/anaconda3/lib/python3.9/site-packages (from matplotlib->-r requirements.txt (line 5)) (23.0)\n",
      "Requirement already satisfied: cycler>=0.10 in /Users/davidmcdevitt/opt/anaconda3/lib/python3.9/site-packages (from matplotlib->-r requirements.txt (line 5)) (0.10.0)\n",
      "Requirement already satisfied: stack-data in /Users/davidmcdevitt/opt/anaconda3/lib/python3.9/site-packages (from IPython->-r requirements.txt (line 7)) (0.2.0)\n",
      "Requirement already satisfied: pickleshare in /Users/davidmcdevitt/opt/anaconda3/lib/python3.9/site-packages (from IPython->-r requirements.txt (line 7)) (0.7.5)\n",
      "Requirement already satisfied: pexpect>4.3 in /Users/davidmcdevitt/opt/anaconda3/lib/python3.9/site-packages (from IPython->-r requirements.txt (line 7)) (4.8.0)\n",
      "Requirement already satisfied: pygments>=2.4.0 in /Users/davidmcdevitt/opt/anaconda3/lib/python3.9/site-packages (from IPython->-r requirements.txt (line 7)) (2.16.1)\n",
      "Requirement already satisfied: decorator in /Users/davidmcdevitt/opt/anaconda3/lib/python3.9/site-packages (from IPython->-r requirements.txt (line 7)) (4.4.2)\n",
      "Requirement already satisfied: backcall in /Users/davidmcdevitt/opt/anaconda3/lib/python3.9/site-packages (from IPython->-r requirements.txt (line 7)) (0.2.0)\n",
      "Requirement already satisfied: traitlets>=5 in /Users/davidmcdevitt/opt/anaconda3/lib/python3.9/site-packages (from IPython->-r requirements.txt (line 7)) (5.9.0)\n",
      "Requirement already satisfied: appnope in /Users/davidmcdevitt/opt/anaconda3/lib/python3.9/site-packages (from IPython->-r requirements.txt (line 7)) (0.1.2)\n",
      "Requirement already satisfied: matplotlib-inline in /Users/davidmcdevitt/opt/anaconda3/lib/python3.9/site-packages (from IPython->-r requirements.txt (line 7)) (0.1.2)\n",
      "Requirement already satisfied: jedi>=0.16 in /Users/davidmcdevitt/opt/anaconda3/lib/python3.9/site-packages (from IPython->-r requirements.txt (line 7)) (0.18.0)\n",
      "Requirement already satisfied: prompt-toolkit!=3.0.37,<3.1.0,>=3.0.30 in /Users/davidmcdevitt/opt/anaconda3/lib/python3.9/site-packages (from IPython->-r requirements.txt (line 7)) (3.0.39)\n",
      "Requirement already satisfied: joblib>=0.11 in /Users/davidmcdevitt/opt/anaconda3/lib/python3.9/site-packages (from scikit-learn->-r requirements.txt (line 9)) (1.1.0)\n",
      "Requirement already satisfied: scipy>=0.19.1 in /Users/davidmcdevitt/opt/anaconda3/lib/python3.9/site-packages (from scikit-learn->-r requirements.txt (line 9)) (1.7.1)\n",
      "Requirement already satisfied: threadpoolctl>=2.0.0 in /Users/davidmcdevitt/opt/anaconda3/lib/python3.9/site-packages (from scikit-learn->-r requirements.txt (line 9)) (2.2.0)\n",
      "Requirement already satisfied: six in /Users/davidmcdevitt/opt/anaconda3/lib/python3.9/site-packages (from cycler>=0.10->matplotlib->-r requirements.txt (line 5)) (1.16.0)\n",
      "Requirement already satisfied: parso<0.9.0,>=0.8.0 in /Users/davidmcdevitt/opt/anaconda3/lib/python3.9/site-packages (from jedi>=0.16->IPython->-r requirements.txt (line 7)) (0.8.2)\n",
      "Requirement already satisfied: ptyprocess>=0.5 in /Users/davidmcdevitt/opt/anaconda3/lib/python3.9/site-packages (from pexpect>4.3->IPython->-r requirements.txt (line 7)) (0.7.0)\n",
      "Requirement already satisfied: wcwidth in /Users/davidmcdevitt/opt/anaconda3/lib/python3.9/site-packages (from prompt-toolkit!=3.0.37,<3.1.0,>=3.0.30->IPython->-r requirements.txt (line 7)) (0.2.5)\n",
      "Requirement already satisfied: pure-eval in /Users/davidmcdevitt/opt/anaconda3/lib/python3.9/site-packages (from stack-data->IPython->-r requirements.txt (line 7)) (0.2.2)\n",
      "Requirement already satisfied: asttokens in /Users/davidmcdevitt/opt/anaconda3/lib/python3.9/site-packages (from stack-data->IPython->-r requirements.txt (line 7)) (2.0.5)\n",
      "Requirement already satisfied: executing in /Users/davidmcdevitt/opt/anaconda3/lib/python3.9/site-packages (from stack-data->IPython->-r requirements.txt (line 7)) (0.8.3)\n"
     ]
    }
   ],
   "source": [
    "!pip install -r requirements.txt"
   ]
  },
  {
   "cell_type": "markdown",
   "metadata": {
    "id": "4aTcwOR62gN9"
   },
   "source": [
    "# Build Datasets"
   ]
  },
  {
   "cell_type": "code",
   "execution_count": 4,
   "metadata": {
    "id": "So_YkL2r2DgK"
   },
   "outputs": [
    {
     "name": "stdout",
     "output_type": "stream",
     "text": [
      "mkdir: ./experiments/: File exists\r\n"
     ]
    }
   ],
   "source": [
    "!mkdir ./experiments/\n",
    "!mkdir ./experiments/full_2class\n",
    "!mkdir ./experiments/full_2class/data\n",
    "!mkdir ./experiments/full_2class/data/children\n",
    "!mkdir ./experiments/full_2class/data/adults\n",
    "!mkdir ./experiments/full_2class/data/mixed\n",
    "!mkdir ./experiments/full_2class/data/transitions"
   ]
  },
  {
   "cell_type": "code",
   "execution_count": 5,
   "metadata": {
    "colab": {
     "base_uri": "https://localhost:8080/"
    },
    "id": "4sW2fP652dk_",
    "outputId": "72b9a877-f1b4-4ccd-8605-ccfb0871d340"
   },
   "outputs": [],
   "source": [
    "!unzip -q /Users/davidmcdevitt/Downloads/seed_children.zip -d ./experiments/full_2class/data\n",
    "!unzip -q /Users/davidmcdevitt/Downloads/seed_adults.zip -d ./experiments/full_2class/data\n",
    "!unzip -q /Users/davidmcdevitt/Downloads/darcy_children.zip -d ./experiments/full_2class/data\n",
    "!unzip -q /Users/davidmcdevitt/Downloads/cv_adults.zip -d ./experiments/full_2class/data"
   ]
  },
  {
   "cell_type": "markdown",
   "metadata": {
    "id": "T1EegnSXw0iw"
   },
   "source": [
    "Full 2 Class"
   ]
  },
  {
   "cell_type": "code",
   "execution_count": null,
   "metadata": {
    "colab": {
     "base_uri": "https://localhost:8080/"
    },
    "id": "oDFsrboXlOam",
    "outputId": "e12a59db-4591-452d-a5fe-01b5f4294fcd"
   },
   "outputs": [
    {
     "name": "stdout",
     "output_type": "stream",
     "text": [
      "Building datasets\n",
      "Child Obs: 21308\n",
      "tensor([0.3517, 0.6483])\n",
      "2\n",
      "Epoch: 0, Loss: 0.50, Accuracy: 0.76, Time: 3139.30 seconds\n",
      "--------------------------------------------------------------------------------\n",
      "Validation\n",
      "Accuracy: 0.80, Total items: 6059\n",
      "Weighted F1 Score: 0.78\n",
      "Confusion Matrix:\n",
      "[[1093  992]\n",
      " [ 245 3729]]\n",
      "Saving model\n",
      "Saving Logs at /Users/davidmcdevitt/Documents/GitHub/speech-pipeline/full_2class/log/\n",
      "Epoch: 1, Loss: 0.47, Accuracy: 0.79, Time: 4918.98 seconds\n",
      "--------------------------------------------------------------------------------\n",
      "Validation\n",
      "Accuracy: 0.79, Total items: 6059\n",
      "Weighted F1 Score: 0.78\n",
      "Confusion Matrix:\n",
      "[[1020 1065]\n",
      " [ 192 3782]]\n",
      "Break Count: 1\n",
      "Epoch: 2, Loss: 0.46, Accuracy: 0.80, Time: 1411.05 seconds\n",
      "--------------------------------------------------------------------------------\n",
      "Validation\n",
      "Accuracy: 0.80, Total items: 6059\n",
      "Weighted F1 Score: 0.79\n",
      "Confusion Matrix:\n",
      "[[1146  939]\n",
      " [ 260 3714]]\n",
      "Saving model\n",
      "Saving Logs at /Users/davidmcdevitt/Documents/GitHub/speech-pipeline/full_2class/log/\n",
      "Epoch: 3, Loss: 0.45, Accuracy: 0.81, Time: 1408.69 seconds\n",
      "--------------------------------------------------------------------------------\n",
      "Validation\n",
      "Accuracy: 0.82, Total items: 6059\n",
      "Weighted F1 Score: 0.81\n",
      "Confusion Matrix:\n",
      "[[1263  822]\n",
      " [ 280 3694]]\n",
      "Saving model\n",
      "Saving Logs at /Users/davidmcdevitt/Documents/GitHub/speech-pipeline/full_2class/log/\n",
      "Epoch: 4, Loss: 0.45, Accuracy: 0.82, Time: 1385.20 seconds\n",
      "--------------------------------------------------------------------------------\n",
      "Validation\n",
      "Accuracy: 0.80, Total items: 6059\n",
      "Weighted F1 Score: 0.79\n",
      "Confusion Matrix:\n",
      "[[1072 1013]\n",
      " [ 170 3804]]\n",
      "Break Count: 1\n",
      "Epoch: 5, Loss: 0.44, Accuracy: 0.82, Time: 1417.06 seconds\n",
      "--------------------------------------------------------------------------------\n",
      "Validation\n"
     ]
    }
   ],
   "source": [
    "!python train.py --repo_path /Users/davidmcdevitt/Documents/GitHub/speech-pipeline/ --data_path /Users/davidmcdevitt/Documents/GitHub/speech-pipeline/experiments/full_2class/data/ --model_name full_2class --num_epochs 999 --train_split 0.9 --break_count 20 --batch_size 16 --clip_size 1 --noise_level 0.2 --class_weights --log_training\n"
   ]
  },
  {
   "cell_type": "markdown",
   "metadata": {
    "id": "lyXvdyRgw5HR"
   },
   "source": [
    "Seed Only 2 Class"
   ]
  },
  {
   "cell_type": "code",
   "execution_count": null,
   "metadata": {
    "id": "Y8sQHeb5w5HR"
   },
   "outputs": [],
   "source": [
    "#!python train.py --repo_path /content/drive/MyDrive/Git/speech_pipeline/ --data_path /content/data/ --model_name seed_only_2class --seed_only --num_epochs 999 --train_split 0.9 --break_count 1 --batch_size 16 --clip_size 1 --noise_level 0.2 --class_weights --log_training"
   ]
  },
  {
   "cell_type": "markdown",
   "metadata": {
    "id": "zu1nTNQksICw"
   },
   "source": [
    "Seed Only + Mixed"
   ]
  },
  {
   "cell_type": "code",
   "execution_count": null,
   "metadata": {
    "id": "4sDejW2W92is"
   },
   "outputs": [],
   "source": [
    "#!python train.py --repo_path /content/drive/MyDrive/Git/speech_pipeline/ --data_path /content/data/ --model_name full_2class --num_epochs 999 --train_split 0.9 --break_count 1 --batch_size 16 --clip_size 1 --noise_level 0.2 --class_weights --log_training --overlap_class --seed_only"
   ]
  },
  {
   "cell_type": "markdown",
   "metadata": {
    "id": "fd6FKCRRsQJg"
   },
   "source": [
    "Full Dataset + Mixed"
   ]
  },
  {
   "cell_type": "code",
   "execution_count": null,
   "metadata": {
    "id": "_EPLrmSfsQJh"
   },
   "outputs": [],
   "source": [
    "#!python train.py --repo_path /content/drive/MyDrive/Git/speech_pipeline/ --data_path /content/data/ --model_name full_2class --num_epochs 999 --train_split 0.9 --break_count 1 --batch_size 16 --clip_size 1 --noise_level 0.2 --class_weights --log_training --overlap_class"
   ]
  },
  {
   "cell_type": "markdown",
   "metadata": {
    "id": "LAumEFiLAnSV"
   },
   "source": [
    "Seed Only + Transitions"
   ]
  },
  {
   "cell_type": "code",
   "execution_count": null,
   "metadata": {
    "id": "8z2kQM9AAnBu"
   },
   "outputs": [],
   "source": [
    "#!python train.py --repo_path /content/drive/MyDrive/Git/speech_pipeline/ --data_path /content/data/ --model_name full_2class --num_epochs 999 --train_split 0.9 --break_count 1 --batch_size 16 --clip_size 1 --noise_level 0.2 --class_weights --log_training --transition_class --seed_only"
   ]
  },
  {
   "cell_type": "markdown",
   "metadata": {
    "id": "9IMzunsXNwgd"
   },
   "source": [
    "Full Dataset + Transitions"
   ]
  },
  {
   "cell_type": "code",
   "execution_count": null,
   "metadata": {
    "id": "rw7HFrn0Nv8R"
   },
   "outputs": [],
   "source": [
    "#!python train.py --repo_path /content/drive/MyDrive/Git/speech_pipeline/ --data_path /content/data/ --model_name full_2class --num_epochs 999 --train_split 0.9 --break_count 1 --batch_size 16 --clip_size 1 --noise_level 0.2 --class_weights --log_training --transition_class"
   ]
  },
  {
   "cell_type": "markdown",
   "metadata": {
    "id": "KayQfm-i3xNM"
   },
   "source": [
    "Seed Only + Mixed + Transitions"
   ]
  },
  {
   "cell_type": "code",
   "execution_count": null,
   "metadata": {
    "id": "l8r1KRLnRV2b"
   },
   "outputs": [],
   "source": [
    "#!python train.py --repo_path /content/drive/MyDrive/Git/speech_pipeline/ --data_path /content/data/ --model_name full_2class --num_epochs 999 --train_split 0.9 --break_count 1 --batch_size 16 --clip_size 1 --noise_level 0.2 --class_weights --log_training --transition_class --overlap_class --seed_only"
   ]
  },
  {
   "cell_type": "markdown",
   "metadata": {
    "id": "IyhDjzgh388C"
   },
   "source": [
    "Full Dataset + Mixed + Transitions"
   ]
  },
  {
   "cell_type": "code",
   "execution_count": null,
   "metadata": {
    "id": "1c7o-IxD34Yo"
   },
   "outputs": [],
   "source": [
    "#!python train.py --repo_path /content/drive/MyDrive/Git/speech_pipeline/ --data_path /content/data/ --model_name full_2class --num_epochs 999 --train_split 0.9 --break_count 1 --batch_size 16 --clip_size 1 --noise_level 0.2 --class_weights --log_training --transition_class --overlap_class"
   ]
  }
 ],
 "metadata": {
  "colab": {
   "provenance": []
  },
  "kernelspec": {
   "display_name": "Python 3 (ipykernel)",
   "language": "python",
   "name": "python3"
  },
  "language_info": {
   "codemirror_mode": {
    "name": "ipython",
    "version": 3
   },
   "file_extension": ".py",
   "mimetype": "text/x-python",
   "name": "python",
   "nbconvert_exporter": "python",
   "pygments_lexer": "ipython3",
   "version": "3.9.7"
  }
 },
 "nbformat": 4,
 "nbformat_minor": 1
}
